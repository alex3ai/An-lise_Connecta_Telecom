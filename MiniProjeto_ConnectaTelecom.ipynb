{
 "cells": [
  {
   "cell_type": "markdown",
   "id": "72ac70f6-5840-4649-94a9-0b589eede30c",
   "metadata": {},
   "source": [
    "# <font color='white'>Modelagem Estatística e Interpretação de Resultados na Análise de Churn</font>"
   ]
  },
  {
   "cell_type": "markdown",
   "id": "5b4d422e-b7aa-43af-a208-9ebf01c60e9f",
   "metadata": {},
   "source": [
    "## 1. Definição do Problema de Negócio"
   ]
  },
  {
   "cell_type": "code",
   "execution_count": null,
   "id": "0dccde5d-0a10-4e61-af8d-3255cff20bb2",
   "metadata": {
    "jupyter": {
     "source_hidden": true
    }
   },
   "outputs": [],
   "source": [
    "display(Markdown(\"\"\"\n",
    "## 1.1. Problema de Negócio\n",
    "\n",
    "A **Connecta Telecom**, uma empresa fictícia de telecomunicações, está enfrentando uma taxa de cancelamento de serviços (churn) acima da média do setor. A perda de clientes não só impacta a receita recorrente, mas também gera custos elevados com a aquisição de novos clientes para substituir os que foram perdidos.\n",
    "\n",
    "A diretoria precisa de respostas claras e baseadas em dados para a seguinte pergunta: **\"Quais são os principais fatores que levam nossos clientes a cancelar o serviço?\"**\n",
    "\n",
    "- Queremos compreender a relação entre variáveis -> Modelagem Estatística\n",
    "- Se quisermos prever o cancelamento (churn) -> Modelagem Preditiva\n",
    "\n",
    "## 1.2. Objetivos do Projeto\n",
    "\n",
    "Este projeto visa utilizar a modelagem estatística para analisar dados de clientes e atingir os seguintes objetivos:\n",
    "\n",
    "1.  **Identificar os Fatores-Chave:** Determinar quais variáveis (como tipo de contrato, tempo de fidelidade, valor da fatura) têm um impacto estatisticamente significativo na probabilidade de um cliente cancelar o serviço.\n",
    "2.  **Quantificar o Impacto:** Medir o quão forte é a influência de cada fator no risco de churn.\n",
    "3.  **Gerar Recomendações:** Traduzir os resultados da análise estatística em recomendações de negócio acionáveis para a criação de estratégias de retenção de clientes.\n",
    "\n",
    "O modelo escolhido para esta análise será a **Regressão Logística**, pois o nosso objetivo é entender a relação entre diversas variáveis e uma variável de resultado binária (Churn: Sim ou Não).\n",
    "\"\"\"))"
   ]
  },
  {
   "cell_type": "markdown",
   "id": "40bea8d1-2067-481a-8544-b61f47524e6b",
   "metadata": {},
   "source": [
    "## 2. Importação das Bibliotecas"
   ]
  },
  {
   "cell_type": "code",
   "execution_count": null,
   "id": "e23e9095-119c-47ae-8ed8-1c093b0e85de",
   "metadata": {},
   "outputs": [],
   "source": [
    "# Instala o pacote watermark\n",
    "!pip install -q -U watermark"
   ]
  },
  {
   "cell_type": "code",
   "execution_count": null,
   "id": "ea114251-86f1-4615-b5c1-b7d6841bf3d4",
   "metadata": {},
   "outputs": [],
   "source": [
    "# Imports\n",
    "import pandas as pd\n",
    "import numpy as np\n",
    "import statsmodels.api as sm\n",
    "import seaborn as sns\n",
    "import matplotlib.pyplot as plt\n",
    "import plotly.express as px\n",
    "import plotly.graph_objects as go\n",
    "from IPython.display import display, Markdown"
   ]
  },
  {
   "cell_type": "code",
   "execution_count": null,
   "id": "16e02072-be01-409b-a2db-364eb2eccd63",
   "metadata": {},
   "outputs": [],
   "source": [
    "# Configurações para melhor visualização\n",
    "pd.set_option('display.float_format', lambda x: '%.4f' % x)"
   ]
  },
  {
   "cell_type": "code",
   "execution_count": null,
   "id": "ed3d1810-38f4-4b6e-913c-90e2eca5630b",
   "metadata": {},
   "outputs": [],
   "source": [
    "%reload_ext watermark\n",
    "%watermark -a \"Alex_AI_Solutions\""
   ]
  },
  {
   "cell_type": "code",
   "execution_count": null,
   "id": "62932c7b-c0f7-4ddb-b856-e599e9484b5b",
   "metadata": {},
   "outputs": [],
   "source": [
    "%watermark --iversions"
   ]
  },
  {
   "cell_type": "markdown",
   "id": "dcf4853a-e30d-4458-b6e9-c9e3a8a04e3b",
   "metadata": {},
   "source": [
    "## 3. Extração dos Dados"
   ]
  },
  {
   "cell_type": "code",
   "execution_count": null,
   "id": "c18e9c3e-4685-4206-a0fa-3be5707e8d05",
   "metadata": {},
   "outputs": [],
   "source": [
    "# Função para gerar dados fictícios mas coerentes para análise\n",
    "def dsa_gera_dados_churn(num_clientes = 2000):\n",
    "    \n",
    "    \"\"\"\n",
    "    Gera um DataFrame de dados fictícios de clientes de uma empresa de telecomunicações.\n",
    "    \"\"\"\n",
    "\n",
    "    # Para reprodutibilidade\n",
    "    np.random.seed(42)  \n",
    "\n",
    "    # Variáveis\n",
    "    fidelidade_meses = np.random.randint(1, 73, size = num_clientes)\n",
    "    tipo_contrato_opts = ['Mensal', 'Anual', 'Dois anos']\n",
    "    contrato_probs = [0.6, 0.25, 0.15]\n",
    "    tipo_contrato = np.random.choice(tipo_contrato_opts, size = num_clientes, p = contrato_probs)\n",
    "    servico_internet_opts = ['Fibra Óptica', 'DSL', 'Não']\n",
    "    internet_probs = [0.55, 0.35, 0.10]\n",
    "    servico_internet = np.random.choice(servico_internet_opts, size = num_clientes, p = internet_probs)\n",
    "\n",
    "    fatura_base = {\n",
    "        'Mensal': np.random.normal(60, 20),\n",
    "        'Anual': np.random.normal(70, 25),\n",
    "        'Dois anos': np.random.normal(80, 25)\n",
    "    }\n",
    "    \n",
    "    fatura_mensal = [fatura_base[c] + fidelidade_meses[i] * 0.2 + np.random.normal(0, 5) for i, c in enumerate(tipo_contrato)]\n",
    "    fatura_mensal = np.clip(fatura_mensal, 20, 120)\n",
    "\n",
    "    # Lógica para a probabilidade de Churn\n",
    "    # Clientes com contrato mensal, baixa fidelidade e fatura alta têm maior chance de churn\n",
    "    prob_churn_log = -2.5  # Intercepto base (tendência a não cancelar)\n",
    "    prob_churn_log += -0.05 * fidelidade_meses  # Mais fidelidade, menor chance\n",
    "    prob_churn_log += [3.0 if c == 'Mensal' else -1.5 if c == 'Anual' else -2.5 for c in tipo_contrato] # Contrato mensal aumenta muito a chance\n",
    "    prob_churn_log += [0.8 if s == 'Fibra Óptica' else -0.5 for s in servico_internet] # Fibra tende a ter mais churn (talvez por preço)\n",
    "    prob_churn_log += 0.03 * fatura_mensal # Fatura mais alta, mais chance\n",
    "    \n",
    "    # Converter log-odds para probabilidade usando a função sigmoide\n",
    "    prob_churn = 1 / (1 + np.exp(-prob_churn_log))\n",
    "    \n",
    "    # Gerar o resultado de churn com base na probabilidade\n",
    "    churn = np.random.binomial(1, prob_churn)\n",
    "\n",
    "    df = pd.DataFrame({\n",
    "        'ID_Cliente': range(1, num_clientes + 1),\n",
    "        'Fidelidade_Meses': fidelidade_meses,\n",
    "        'Tipo_Contrato': tipo_contrato,\n",
    "        'Servico_Internet': servico_internet,\n",
    "        'Fatura_Mensal': fatura_mensal,\n",
    "        'Churn': churn\n",
    "    })\n",
    "\n",
    "    return df"
   ]
  },
  {
   "cell_type": "code",
   "execution_count": null,
   "id": "2f7d113c-91cb-4c83-ab21-a946253e5b57",
   "metadata": {},
   "outputs": [],
   "source": [
    "# Gera os dados\n",
    "df_churn = dsa_gera_dados_churn()"
   ]
  },
  {
   "cell_type": "code",
   "execution_count": null,
   "id": "62c9e870-9656-4b55-8e2f-b897bfb11433",
   "metadata": {
    "jupyter": {
     "source_hidden": true
    }
   },
   "outputs": [],
   "source": [
    "display(Markdown(\"### Amostra dos Dados Gerados\"))\n",
    "df_churn.head()"
   ]
  },
  {
   "cell_type": "markdown",
   "id": "d72034a2-2dda-47f7-a9fd-be836e065bcf",
   "metadata": {},
   "source": [
    "## 4. Análise Exploratória dos Dados (EDA)"
   ]
  },
  {
   "cell_type": "code",
   "execution_count": null,
   "id": "3b130b00-1fda-4486-ac92-c171e4803b9e",
   "metadata": {
    "jupyter": {
     "source_hidden": true
    }
   },
   "outputs": [],
   "source": [
    "# Informações gerais do DataFrame\n",
    "display(Markdown(\"### Informações Gerais do DataFrame\"))\n",
    "df_churn.info()"
   ]
  },
  {
   "cell_type": "code",
   "execution_count": null,
   "id": "52f9c600-a162-4bb9-9b57-57db93ee80b1",
   "metadata": {
    "jupyter": {
     "source_hidden": true
    }
   },
   "outputs": [],
   "source": [
    "# Resumo estatístico\n",
    "display(Markdown(\"### Resumo Estatístico das Variáveis Numéricas\"))\n",
    "display(df_churn.describe())"
   ]
  },
  {
   "cell_type": "code",
   "execution_count": null,
   "id": "b015f575-31dc-493a-9c1c-7c5953dd78cf",
   "metadata": {
    "jupyter": {
     "source_hidden": true
    }
   },
   "outputs": [],
   "source": [
    "# Resumo estatístico\n",
    "display(Markdown(\"### Resumo Estatístico das Variáveis Categóricas\"))\n",
    "display(df_churn.describe(include='object'))"
   ]
  },
  {
   "cell_type": "markdown",
   "id": "ca88d19c-3fde-49f0-b7e0-eb812ea39548",
   "metadata": {},
   "source": [
    "### 4.1. Gráfico de Taxa de Churn Geral"
   ]
  },
  {
   "cell_type": "code",
   "execution_count": null,
   "id": "c4517abb-0950-43a1-8bcb-4e91d4322f55",
   "metadata": {},
   "outputs": [],
   "source": [
    "# Gráfico - Versão Estática\n",
    "\n",
    "# Conta os valores da coluna 'Churn'\n",
    "churn_counts = df_churn['Churn'].value_counts().rename(index = {1: 'Sim', 0: 'Não'})\n",
    "\n",
    "# Define as cores equivalentes ao gráfico original\n",
    "cores = ['#636EFA', '#EF553B']\n",
    "\n",
    "# Cria o gráfico de pizza com duas casas decimais\n",
    "plt.figure(figsize = (6,6))\n",
    "plt.pie(\n",
    "    churn_counts.values, \n",
    "    labels = churn_counts.index, \n",
    "    autopct = '%1.2f%%',   # <-- Duas casas decimais\n",
    "    startangle = 140, \n",
    "    colors = cores,\n",
    "    explode = [0.05 if label == 'Sim' else 0 for label in churn_counts.index]\n",
    ")\n",
    "plt.title('Taxa de Churn Geral', fontsize = 14)\n",
    "plt.show()"
   ]
  },
  {
   "cell_type": "code",
   "execution_count": null,
   "id": "5e60d11e-d2bf-4cca-bf2a-57fba084ef07",
   "metadata": {},
   "outputs": [],
   "source": [
    "# Gráfico - Versão Interativa\n",
    "\n",
    "# Calcula a contagem por categoria\n",
    "churn_counts = df_churn['Churn'].value_counts() \n",
    "\n",
    "# Cria o gráfico\n",
    "fig_pie = px.pie(values = churn_counts.values, \n",
    "                 names = churn_counts.index.map({1: 'Sim', 0: 'Não'}), \n",
    "                 title = 'Taxa de Churn Geral', \n",
    "                 color = churn_counts.index.map({1: 'Sim', 0: 'Não'}), \n",
    "                 color_discrete_map = {'Sim':'#EF553B', 'Não':'#636EFA'} ) \n",
    "fig_pie.show()"
   ]
  },
  {
   "cell_type": "code",
   "execution_count": null,
   "id": "7355f0d1-e712-4b0b-8065-f7acd935d324",
   "metadata": {
    "jupyter": {
     "source_hidden": true
    }
   },
   "outputs": [],
   "source": [
    "# Calculamos a taxa de churn\n",
    "churn_counts = df_churn['Churn'].value_counts()\n",
    "numerador = churn_counts.get(1, churn_counts.get('Sim', churn_counts.get(True, 0)))\n",
    "taxa = 100 * numerador / len(df_churn)\n",
    "\n",
    "display(Markdown(f\"\"\"\n",
    "A taxa de churn geral na nossa base de dados é de **{taxa:.2f}%**.\n",
    "Este é o nosso principal indicador a ser analisado.\n",
    "\"\"\"))"
   ]
  },
  {
   "cell_type": "markdown",
   "id": "c3dbb060-a542-49d5-b48d-d2bf1079f4e8",
   "metadata": {},
   "source": [
    "### 4.2. Gráfico de Taxa de Churn Por Tipo de Contrato"
   ]
  },
  {
   "cell_type": "code",
   "execution_count": null,
   "id": "d34be883-3780-4ebc-8c7a-eae5cc7d867d",
   "metadata": {},
   "outputs": [],
   "source": [
    "# Gráfico - Versão Estática\n",
    "\n",
    "plt.figure(figsize = (12,4))\n",
    "\n",
    "# Cria o gráfico de barras agrupadas com Seaborn\n",
    "sns.countplot(data = df_churn,\n",
    "              x = 'Tipo_Contrato',\n",
    "              hue = 'Churn',\n",
    "              palette = {0: '#636EFA', 1: '#EF553B'})\n",
    "\n",
    "plt.title('Taxa de Churn Por Tipo de Contrato', fontsize = 14)\n",
    "plt.xlabel('\\nTipo de Contrato')\n",
    "plt.ylabel('Número de Clientes')\n",
    "plt.legend(title = 'Churn (0=Não, 1=Sim)')\n",
    "plt.xticks(rotation = 0)\n",
    "plt.tight_layout()\n",
    "plt.show()"
   ]
  },
  {
   "cell_type": "code",
   "execution_count": null,
   "id": "e8a2938c-f70f-4531-9ff7-bdeb116d63ac",
   "metadata": {},
   "outputs": [],
   "source": [
    "# Gráfico - Versão Interativa\n",
    "\n",
    "# Histograma\n",
    "dsa_fig_bar_contrato = px.histogram(df_churn, \n",
    "                                    x = 'Tipo_Contrato', \n",
    "                                    color = 'Churn', \n",
    "                                    barmode = 'group',\n",
    "                                    title = 'Taxa de Churn por Tipo de Contrato',\n",
    "                                    labels = {'Tipo_Contrato': 'Tipo de Contrato', 'Churn': 'Churn (0=Não, 1=Sim)'})\n",
    "dsa_fig_bar_contrato.show()"
   ]
  },
  {
   "cell_type": "code",
   "execution_count": null,
   "id": "43f21e57-d107-42ad-93e9-175dc5891085",
   "metadata": {
    "jupyter": {
     "source_hidden": true
    }
   },
   "outputs": [],
   "source": [
    "display(Markdown(\"\"\"\n",
    "**Insight:** A visualização é clara: clientes com **contrato mensal** têm uma propensão ao churn drasticamente maior em comparação com clientes de contratos anuais ou de dois anos.\n",
    "\"\"\"))"
   ]
  },
  {
   "cell_type": "markdown",
   "id": "3b9c9f65-d155-4dd3-a7fa-ffdcf66c7ba4",
   "metadata": {},
   "source": [
    "### 4.3. Gráfico de Distribuição da Fidelidade (em Meses) Por Churn"
   ]
  },
  {
   "cell_type": "code",
   "execution_count": null,
   "id": "1e21d979-2656-47bd-8522-1517cc259c36",
   "metadata": {},
   "outputs": [],
   "source": [
    "# Gráfico - Versão Interativa\n",
    "\n",
    "# Análise por Fidelidade (Tenure)\n",
    "dsa_fig_hist_fidelidade = px.histogram(df_churn, \n",
    "                                       x = 'Fidelidade_Meses', \n",
    "                                       color = 'Churn', \n",
    "                                       marginal = 'box',\n",
    "                                       title = 'Distribuição da Fidelidade (em Meses) Por Churn',\n",
    "                                       labels = {'Fidelidade_Meses': 'Meses de Fidelidade'})\n",
    "dsa_fig_hist_fidelidade.show()"
   ]
  },
  {
   "cell_type": "code",
   "execution_count": null,
   "id": "9e302bf4-9a06-4dc8-9396-3ac02f8b187f",
   "metadata": {
    "jupyter": {
     "source_hidden": true
    }
   },
   "outputs": [],
   "source": [
    "display(Markdown(\"\"\"\n",
    "**Insight:** Clientes que cancelam o serviço (`Churn=1`) estão mais concentrados nos primeiros meses de contrato. A mediana de fidelidade para clientes que cancelam é muito menor do que para os que permanecem. Isso indica que o início da jornada do cliente é um período crítico para a retenção.\n",
    "\"\"\"))"
   ]
  },
  {
   "cell_type": "markdown",
   "id": "71d3e66b-8f1c-4d67-b20a-26766adb2973",
   "metadata": {},
   "source": [
    "### 4.4. Gráfico de Distribuição da Fatura Mensal Por Churn"
   ]
  },
  {
   "cell_type": "code",
   "execution_count": null,
   "id": "1490d684-b9bc-43d6-9106-64bc527ef685",
   "metadata": {},
   "outputs": [],
   "source": [
    "# Gráfico - Versão Interativa\n",
    "\n",
    "# Análise por Fatura Mensal\n",
    "dsa_fig_hist_fatura = px.histogram(df_churn, \n",
    "                                   x = 'Fatura_Mensal', \n",
    "                                   color = 'Churn', \n",
    "                                   marginal = 'box',\n",
    "                                   title = 'Distribuição da Fatura Mensal Por Churn',\n",
    "                                   labels = {'Fatura_Mensal': 'Valor da Fatura Mensal'})\n",
    "dsa_fig_hist_fatura.show()"
   ]
  },
  {
   "cell_type": "code",
   "execution_count": null,
   "id": "2b90edb7-3dda-4c06-acfb-f8a89e0e695d",
   "metadata": {
    "jupyter": {
     "source_hidden": true
    }
   },
   "outputs": [],
   "source": [
    "display(Markdown(\"\"\"\n",
    "**Insight:** Clientes com faturas mensais mais altas tendem a apresentar uma taxa de churn maior. A mediana do valor da fatura para clientes que cancelaram é notavelmente superior.\n",
    "\"\"\"))"
   ]
  },
  {
   "cell_type": "markdown",
   "id": "48c16e14-02b6-4e56-af27-e3d1d9c20f4a",
   "metadata": {},
   "source": [
    "## 5. Preparação dos Dados Para a Modelagem Estatística"
   ]
  },
  {
   "cell_type": "code",
   "execution_count": null,
   "id": "c26bccd8-e47e-42da-9b86-06b61b1a6dc3",
   "metadata": {},
   "outputs": [],
   "source": [
    "# Dados originais\n",
    "df_churn.head()"
   ]
  },
  {
   "cell_type": "code",
   "execution_count": null,
   "id": "f3320c72-5835-40da-a565-9c2117331d64",
   "metadata": {},
   "outputs": [],
   "source": [
    "# Categorias da variável\n",
    "df_churn.Tipo_Contrato.value_counts()"
   ]
  },
  {
   "cell_type": "code",
   "execution_count": null,
   "id": "1179cd51-91fc-45d6-9f79-f6fe2b737a01",
   "metadata": {},
   "outputs": [],
   "source": [
    "# Categorias da variável\n",
    "df_churn.Servico_Internet.value_counts()"
   ]
  },
  {
   "cell_type": "code",
   "execution_count": null,
   "id": "1fadace0-cf81-4683-87f7-0b4a08b042cd",
   "metadata": {},
   "outputs": [],
   "source": [
    "# Preparação dos dados\n",
    "# Converter variáveis categóricas em variáveis dummy (0 ou 1)\n",
    "# Adicionado o parâmetro dtype=int para garantir que as novas colunas sejam numéricas\n",
    "df_model = pd.get_dummies(df_churn, columns = ['Tipo_Contrato', 'Servico_Internet'], drop_first = True, dtype = int)"
   ]
  },
  {
   "cell_type": "markdown",
   "id": "40431a51-ff14-4e62-a147-31e1c41f2d85",
   "metadata": {},
   "source": [
    "Variáveis dummy (ou variáveis indicadoras) são variáveis numéricas criadas para representar categorias em modelos estatísticos ou de Machine Learning. Elas transformam dados qualitativos (como “genero”, “estado civil”, “região”) em valores numéricos, geralmente 0 e 1, permitindo que algoritmos matemáticos consigam processá-los.\n",
    "\n",
    "Assim, o modelo consegue interpretar diferenças entre grupos sem precisar lidar com texto. As variáveis dummy são uma forma de codificar categorias em números binários, facilitando análises estatísticas e predições. A técnica de criação de variáveis dummy é chamada de One-Hot-Encoding."
   ]
  },
  {
   "cell_type": "code",
   "execution_count": null,
   "id": "816e49d3-53d6-40d1-ab38-75ca5800062c",
   "metadata": {},
   "outputs": [],
   "source": [
    "# Dados originais\n",
    "df_churn.head()"
   ]
  },
  {
   "cell_type": "code",
   "execution_count": null,
   "id": "aa3938ca-4b45-4405-bea8-388b66f67a33",
   "metadata": {},
   "outputs": [],
   "source": [
    "# Dados processados\n",
    "df_model.head()"
   ]
  },
  {
   "cell_type": "code",
   "execution_count": null,
   "id": "4100fe2d-a0ca-47a8-919f-fff5809cc8b2",
   "metadata": {},
   "outputs": [],
   "source": [
    "# Resumo dos dados\n",
    "df_model.info()"
   ]
  },
  {
   "cell_type": "code",
   "execution_count": null,
   "id": "c0de31fc-f793-4080-a455-4638e2760f7c",
   "metadata": {},
   "outputs": [],
   "source": [
    "# Definir as variáveis\n",
    "# Variável dependente (o que queremos prever)\n",
    "y = df_model['Churn']"
   ]
  },
  {
   "cell_type": "code",
   "execution_count": null,
   "id": "e3bc6764-6ec4-4e98-b890-a875eaa2f559",
   "metadata": {},
   "outputs": [],
   "source": [
    "# Variáveis independentes (as que usamos para prever)\n",
    "# Excluímos a ID do cliente e a variável alvo original\n",
    "X = df_model.drop(['ID_Cliente', 'Churn'], axis = 1)"
   ]
  },
  {
   "cell_type": "code",
   "execution_count": null,
   "id": "944b5a8b-8c0d-47aa-ab86-2d52033445e3",
   "metadata": {},
   "outputs": [],
   "source": [
    "# Adicionar uma constante (intercepto) ao modelo, exigido pela biblioteca statsmodels\n",
    "X = sm.add_constant(X)"
   ]
  },
  {
   "cell_type": "code",
   "execution_count": null,
   "id": "7755c4ff-1763-4095-8f63-cd522e5d37c8",
   "metadata": {
    "jupyter": {
     "source_hidden": true
    }
   },
   "outputs": [],
   "source": [
    "display(Markdown(\"### Amostra dos Dados (X) Preparados Para o Modelo\"))\n",
    "display(X.head())"
   ]
  },
  {
   "cell_type": "code",
   "execution_count": null,
   "id": "296c1f08-e6ce-4b29-9294-1f5de06586ab",
   "metadata": {
    "jupyter": {
     "source_hidden": true
    }
   },
   "outputs": [],
   "source": [
    "display(Markdown(\"### Amostra dos Dados (y) Preparados Para o Modelo\"))\n",
    "display(y.head())"
   ]
  },
  {
   "cell_type": "markdown",
   "id": "d8211f79-0d86-4a98-a6be-68483d5eb1dc",
   "metadata": {},
   "source": [
    "## 6. Modelagem Estatística"
   ]
  },
  {
   "cell_type": "code",
   "execution_count": null,
   "id": "63b9275d-651f-4627-9f19-3ea15b5dba89",
   "metadata": {
    "jupyter": {
     "source_hidden": true
    }
   },
   "outputs": [],
   "source": [
    "display(Markdown(\"Vamos construir um modelo para quantificar o impacto de cada variável na probabilidade de churn.\"))"
   ]
  },
  {
   "cell_type": "code",
   "execution_count": null,
   "id": "c977cbe0-d838-4e44-a981-a4ca856c3f22",
   "metadata": {},
   "outputs": [],
   "source": [
    "# Criamos o modelo\n",
    "modelo = sm.Logit(y, X)"
   ]
  },
  {
   "cell_type": "code",
   "execution_count": null,
   "id": "fd15eff3-ea3f-4e4e-be1d-6e8d9814e64d",
   "metadata": {},
   "outputs": [],
   "source": [
    "type(modelo)"
   ]
  },
  {
   "cell_type": "code",
   "execution_count": null,
   "id": "99982acd-4bcf-4ca7-a9f5-6ff4e68ec2d6",
   "metadata": {},
   "outputs": [],
   "source": [
    "# Treinamento do modelo\n",
    "modelo_treinado = modelo.fit()"
   ]
  },
  {
   "cell_type": "code",
   "execution_count": null,
   "id": "b2b76526-998a-4faa-80b1-4cb16675cf5b",
   "metadata": {
    "jupyter": {
     "source_hidden": true
    }
   },
   "outputs": [],
   "source": [
    "# Exibir o resumo completo do modelo\n",
    "display(Markdown(\"### Resultados do Modelo de Regressão Logística\"))\n",
    "modelo_treinado.summary()"
   ]
  },
  {
   "cell_type": "markdown",
   "id": "4f63ffeb-b369-4564-b8a0-5b5e6d31f029",
   "metadata": {},
   "source": [
    "## 7. Interpretação dos Resultados"
   ]
  },
  {
   "cell_type": "code",
   "execution_count": null,
   "id": "cc72c49a-5d8a-4dd4-8fee-189c0433bb28",
   "metadata": {
    "jupyter": {
     "source_hidden": true
    }
   },
   "outputs": [],
   "source": [
    "display(Markdown(\"\"\"\n",
    "O resumo acima contém informações ricas sobre o nosso modelo. Vamos focar nos pontos mais importantes para o negócio:\n",
    "\n",
    "1.  **Coeficientes (`coef`):** Mostram a direção do impacto. Um coeficiente positivo aumenta a chance de churn, enquanto um negativo a diminui.\n",
    "2.  **Valor-p (`P>|z|`):** Indica a significância estatística de cada variável. Um valor-p baixo (geralmente < 0.05) significa que o efeito da variável é real e não apenas uma coincidência na amostra.\n",
    "3.  **Pseudo R-squ.:** Similar ao R² na regressão linear, indica a proporção da \"variância\" da variável dependente que é explicada pelo modelo. Um valor de 0.645 (ou 65%) é considerado um bom ajuste para este tipo de modelo.\n",
    "\n",
    "Para facilitar a interpretação, vamos calcular a **Razão de Chances (Odds Ratio)**, que nos diz como as chances de churn mudam com o aumento de uma unidade na variável independente.\n",
    "\"\"\"))"
   ]
  },
  {
   "cell_type": "markdown",
   "id": "4da8e43f-c82d-4d74-bea8-20e1718b6712",
   "metadata": {},
   "source": [
    "A Razão de Chances (ou Odds Ratio) é uma medida usada para comparar a probabilidade de um evento ocorrer entre dois grupos. Ela é muito comum em estatística e modelos como a regressão logística.\n",
    "\n",
    "De forma simples, a “chance” (odds) de um evento é a razão entre a probabilidade de ele acontecer e a probabilidade de não acontecer. Por exemplo, se a probabilidade de um cliente comprar um produto é 0,8 (80%), então a chance é 0,8 / 0,2 = 4. Isso quer dizer que a chance de compra é 4 vezes maior do que a de não compra."
   ]
  },
  {
   "cell_type": "code",
   "execution_count": null,
   "id": "424a085b-05cd-44ef-991b-788cb39569f5",
   "metadata": {},
   "outputs": [],
   "source": [
    "# Calcular e exibir as razões de chance (Odds Ratios)\n",
    "params = modelo_treinado.params\n",
    "conf = modelo_treinado.conf_int()\n",
    "conf['Odds Ratio'] = params\n",
    "conf.columns = ['2.5%', '97.5%', 'Odds Ratio']\n",
    "conf = np.exp(conf)\n",
    "display(Markdown(\"### Tabela de Razão de Chances (Odds Ratio)\"))\n",
    "display(conf)"
   ]
  },
  {
   "cell_type": "markdown",
   "id": "919921f2-26ad-4537-a74c-6397ef79d9e7",
   "metadata": {},
   "source": [
    "## Interpretação da Razão de Chances Para o Negócio:\n",
    "\n",
    "**1. const (intercepto)**\n",
    "\n",
    "O valor 0.0054 representa a chance base de churn quando todas as outras variáveis são zero. Ele por si só não tem interpretação prática relevante e serve como ponto de partida do modelo.\n",
    "\n",
    "**2. Fidelidade_Meses (0.9459)**\n",
    "\n",
    "O odds ratio é menor que 1, o que indica um efeito protetor: quanto mais meses de fidelidade, menor a chance de churn. Cada mês adicional reduz em cerca de (1 - 0.9459) × 100 ≈ 5,4% a chance de o cliente cancelar.\n",
    "\n",
    "**3. Fatura_Mensal (1.0321)**\n",
    "\n",
    "Um valor ligeiramente acima de 1 mostra que quanto maior a fatura mensal, maior a chance de churn. A cada aumento unitário (por exemplo, R$ 1), a chance cresce em torno de 3,2%. Isso pode indicar insatisfação com preços mais altos.\n",
    "\n",
    "**4. Tipo_Contrato_Dois anos (0.2797)**\n",
    "\n",
    "O valor é menor que 1, o que significa que clientes com contrato de dois anos têm menor probabilidade de cancelar comparados ao grupo de referência (por exemplo “Contrato de um ano”). Isso sugere que contratos longos retêm melhor os clientes.\n",
    "\n",
    "**5. Tipo_Contrato_Mensal (195.1849)**\n",
    "\n",
    "Um valor muito alto mostra que clientes com contrato mensal têm probabilidade muito maior de cancelar, cerca de 195 vezes maior do que o grupo de referência. Isso é típico: contratos mensais são mais flexíveis e os clientes saem mais facilmente.\n",
    "\n",
    "**6. Servico_Internet_Fibra Óptica (4.2844)**\n",
    "\n",
    "Clientes com fibra óptica têm 4,28 vezes mais chance de churn que os que usam outro tipo de internet (como DSL, que seria o grupo base). Pode indicar que esse grupo é mais exigente ou sensível a falhas de serviço.\n",
    "\n",
    "**7. Servico_Internet_Não (1.2331)**\n",
    "\n",
    "Clientes sem serviço de internet têm uma chance 23% maior de churn em relação ao grupo base, mas o intervalo de confiança (0.73 a 2.06) inclui 1, o que sugere baixa significância estatística, ou seja, o efeito pode não ser real.\n",
    "\n",
    "Em resumo:\n",
    "\n",
    "- Fidelidade e contrato de longo prazo reduzem churn.\n",
    "- Fatura alta, contrato mensal e fibra óptica aumentam churn.\n",
    "- O odds ratio mostra o tamanho e a direção do efeito de cada variável sobre a probabilidade de cancelamento."
   ]
  },
  {
   "cell_type": "markdown",
   "id": "6323d0d3-69f5-49ee-bc70-d5428d5c4391",
   "metadata": {},
   "source": [
    "## 8. Relatório Final - Conclusões e Recomendações Estratégicas"
   ]
  },
  {
   "cell_type": "code",
   "execution_count": null,
   "id": "ecf8e809-f04b-4e14-98c0-e8eeac102023",
   "metadata": {
    "jupyter": {
     "source_hidden": true
    }
   },
   "outputs": [],
   "source": [
    "display(Markdown(\"\"\"\n",
    "# Relatório Final: Conclusões e Recomendações Estratégicas\n",
    "\n",
    "## Conclusões\n",
    "\n",
    "A análise estatística revelou, com alto grau de confiança, os principais impulsionadores do churn de clientes na **Connecta Telecom**. Os resultados do modelo de regressão logística confirmam que o cancelamento está fortemente associado a alguns fatores comportamentais e contratuais específicos. O perfil de cliente com **alto risco de churn** é: **cliente recente, com contrato mensal, fatura elevada e serviço de Fibra Óptica**.\n",
    "\n",
    "Os fatores mais significativos, em ordem de impacto, são:\n",
    "1. **Tipo de Contrato:** Clientes com contrato mensal apresentam um risco de cancelamento aproximadamente **195 vezes maior** em relação aos de contratos mais longos. Contratos de dois anos são o principal fator de proteção.\n",
    "2. **Tempo de Fidelidade:** Cada mês adicional de permanência reduz a chance de churn em cerca de **5%**, mostrando que os primeiros meses são cruciais para a retenção.\n",
    "3. **Valor da Fatura Mensal:** O aumento no valor da fatura mensal eleva o risco de churn em aproximadamente **3% por unidade monetária**, sugerindo sensibilidade a preço.\n",
    "4. **Tipo de Serviço de Internet:** O serviço de **Fibra Óptica** aumenta em cerca de **4 vezes** a chance de cancelamento em comparação com o DSL, possivelmente devido a expectativas não atendidas ou à percepção de custo elevado.\n",
    "\n",
    "## Recomendações Acionáveis\n",
    "\n",
    "Com base nessas conclusões, propõem-se as seguintes ações estratégicas para o time de retenção:\n",
    "\n",
    "| Recomendação | Justificativa (Baseada nos Dados) | Ação Proposta |\n",
    "| :--- | :--- | :--- |\n",
    "| **1. Incentivar a Migração para Contratos de Longo Prazo** | O contrato mensal está associado a um risco **extremamente alto de churn (≈195x)**. | Criar uma campanha promocional para converter clientes mensais em anuais ou bienais, oferecendo incentivos como descontos, bônus de fidelidade ou upgrades temporários de velocidade. |\n",
    "| **2. Criar um Programa de Fidelização para Novos Clientes** | Cada mês adicional reduz a chance de churn em **5%**. | Implementar um programa de acompanhamento intensivo nos seis primeiros meses, com comunicações personalizadas, suporte proativo e benefícios progressivos para reforçar a satisfação inicial. |\n",
    "| **3. Revisar a Estratégia de Preços e Valor Percebido** | Faturas mais altas aumentam a chance de churn em **3%** por unidade. | Segmentar clientes com faturas elevadas e realizar uma análise de elasticidade de preço. Ajustar pacotes para melhorar o valor percebido (mais benefícios pelo mesmo preço). |\n",
    "| **4. Investigar o Churn no Segmento de Fibra Óptica** | Clientes com Fibra têm **4x mais chances de cancelar**. | Conduzir uma pesquisa de satisfação e uma análise técnica detalhada sobre a qualidade do serviço e suporte. Identificar causas de insatisfação e agir sobre problemas de performance ou atendimento. |\n",
    "\n",
    "A adoção dessas recomendações, baseadas em evidências estatísticas sólidas e profissionais, permitirá à **Connecta Telecom** reduzir substancialmente o churn, aumentar a fidelização e fortalecer sua base de receita recorrente.\n",
    "\"\"\"))"
   ]
  }
 ],
 "metadata": {
  "kernelspec": {
   "display_name": "Python 3",
   "language": "python",
   "name": "python3"
  },
  "language_info": {
   "codemirror_mode": {
    "name": "ipython",
    "version": 3
   },
   "file_extension": ".py",
   "mimetype": "text/x-python",
   "name": "python",
   "nbconvert_exporter": "python",
   "pygments_lexer": "ipython3",
   "version": "3.11.9"
  }
 },
 "nbformat": 4,
 "nbformat_minor": 5
}
